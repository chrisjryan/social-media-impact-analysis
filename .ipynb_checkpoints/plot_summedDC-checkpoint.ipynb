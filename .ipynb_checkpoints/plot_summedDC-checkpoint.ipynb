{
 "metadata": {
  "name": "",
  "signature": "sha256:c9755ccca5d450ac6e2ea01ac662b180bbffa1981b6a586d1cbcaf0a84745041"
 },
 "nbformat": 3,
 "nbformat_minor": 0,
 "worksheets": [
  {
   "cells": [
    {
     "cell_type": "code",
     "collapsed": false,
     "input": [
      "# \n",
      "\n",
      "import json\n",
      "\n",
      "\n",
      "def load_json(filename):\n",
      "    with open(filename) as infile:\n",
      "        data = json.load(infile)\n",
      "    return data\n",
      "\n",
      "\n",
      "dlist = load_json('retweeter_info_total.json')\n",
      "tweetID_summedDC = {d['tweet_id']:sum(d['retweeters'].values()) for d in dlist}"
     ],
     "language": "python",
     "metadata": {},
     "outputs": [],
     "prompt_number": 25
    },
    {
     "cell_type": "code",
     "collapsed": false,
     "input": [
      "percentiles = [p/10.0 for p in range(10)]"
     ],
     "language": "python",
     "metadata": {},
     "outputs": [
      {
       "metadata": {},
       "output_type": "pyout",
       "prompt_number": 38,
       "text": [
        "[0.0, 0.1, 0.2, 0.3, 0.4, 0.5, 0.6, 0.7, 0.8, 0.9]"
       ]
      }
     ],
     "prompt_number": 38
    },
    {
     "cell_type": "code",
     "collapsed": false,
     "input": [],
     "language": "python",
     "metadata": {},
     "outputs": []
    }
   ],
   "metadata": {}
  }
 ]
}