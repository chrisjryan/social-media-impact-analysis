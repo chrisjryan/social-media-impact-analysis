{
 "metadata": {
  "name": "",
  "signature": "sha256:90835eaf63c201a22f2bd5a6920308c8c992c3fcc77cf81a0f986b0b1c64a38d"
 },
 "nbformat": 3,
 "nbformat_minor": 0,
 "worksheets": [
  {
   "cells": [
    {
     "cell_type": "code",
     "collapsed": false,
     "input": [
      "import requests\n",
      "import random\n",
      "import json\n",
      "from twapi import *\n",
      "from time import sleep\n",
      "\n",
      "#test\n",
      "\n",
      "def load_json(filename):\n",
      "    with open(filename) as infile:\n",
      "        data = json.load(infile)\n",
      "    return data"
     ],
     "language": "python",
     "metadata": {},
     "outputs": [],
     "prompt_number": 1
    },
    {
     "cell_type": "code",
     "collapsed": false,
     "input": [
      "# note: below, we are getting data for both films.\n",
      "\n",
      "# load the tweets & get a list of all tweet IDs that have nonzero retweets:\n",
      "tweets = load_json('./data/twitter_posts.json')\n",
      "tweet_IDs = [t['tweet_id'] for t in tweets if t['n_retweets'] > 5]\n",
      "\n",
      "# note: considering only tweets with >5 retweets brings this script from \n",
      "# 48 to 8 hours runtime."
     ],
     "language": "python",
     "metadata": {},
     "outputs": [],
     "prompt_number": 2
    },
    {
     "cell_type": "code",
     "collapsed": false,
     "input": [
      "print 'total tweets:\\t\\t\\t', len(tweets)\n",
      "print 'tweets with >5 retweets:\\t', len(tweet_IDs)"
     ],
     "language": "python",
     "metadata": {},
     "outputs": [
      {
       "output_type": "stream",
       "stream": "stdout",
       "text": [
        "total tweets:\t\t\t4465\n",
        "tweets with >5 retweets:\t478\n"
       ]
      }
     ],
     "prompt_number": 3
    },
    {
     "cell_type": "code",
     "collapsed": false,
     "input": [
      "# Harvests a list of retweeters for each tweet in a list, as well as the\n",
      "# number of followers for each retweeter. This can be used as a proxy to\n",
      "# measure the impact of each tweet.\n",
      "\n",
      "# TODO: make this function that takes in a list of tweetIDs and either\n",
      "# outputs a file or returns a dict, based on specified arguments.\n",
      "\n",
      "delta = 100\n",
      "all_tweet_retweeters = []\n",
      "\n",
      "for tid in tweet_IDs:\n",
      "    \n",
      "    # get a list of IDs of the re-tweeters:\n",
      "    sleep(60)    # (rate limit: 15 requests / 15 min)\n",
      "    req_string = 'https://api.twitter.com/1.1/statuses/retweeters/ids.json?id=' \\\n",
      "                  + tid + '&stringify_ids=true'\n",
      "    resp = requests.get(req_string, auth=oauth)\n",
      "    \n",
      "    try:\n",
      "        retweeter_list = resp.json()['ids']\n",
      "\n",
      "        # get the number of followers each re-tweeter has\n",
      "        start_idx = 0\n",
      "        retweeter_followers = {}\n",
      "        while start_idx < len(retweeter_list):\n",
      "\n",
      "            # request user data for up to 100 retweeters at once:\n",
      "            sleep(5)    # (rate limit: 180 requests / 15 min)\n",
      "            req_string = 'https://api.twitter.com/1.1/users/lookup.json?user_id=' \\\n",
      "                          + ','.join(retweeter_list[start_idx:start_idx+delta])\n",
      "            resp = requests.get(req_string, auth=oauth)\n",
      "\n",
      "            # get & add the followers count to the summedDC:\n",
      "            for user in resp.json():\n",
      "                retweeter_followers[user['screen_name']] = user['followers_count']\n",
      "\n",
      "            start_idx += delta\n",
      "\n",
      "        # add the new data & rewrite the output file anew:\n",
      "        tweet_rewtweeters_followercount = {}\n",
      "        tweet_rewtweeters_followercount['tweet_id'] = tid\n",
      "        tweet_rewtweeters_followercount['retweeters'] = retweeter_followers\n",
      "        all_tweet_retweeters.append(tweet_rewtweeters_followercount)    \n",
      "        with file('retweeter_info.json','w') as outfile:\n",
      "            json.dump(all_tweet_retweeters, outfile, indent=4)\n",
      "    except:\n",
      "        # Info for some tweets, e.g. the one with id# 438693264359968768, \n",
      "        # cannot be accessed. (TODO: find out why.)\n",
      "        print 'tweet id:', tid\n",
      "        print 'reponse code:', resp\n",
      "        print 'resp.text:', resp.text\n",
      "        print '\\n'\n",
      "\n",
      "        \n",
      "    # TODO: add meaningful key/value to retweeter screen_name and followers_count."
     ],
     "language": "python",
     "metadata": {},
     "outputs": [
      {
       "ename": "KeyboardInterrupt",
       "evalue": "",
       "output_type": "pyerr",
       "traceback": [
        "\u001b[0;31m---------------------------------------------------------------------------\u001b[0m\n\u001b[0;31mKeyboardInterrupt\u001b[0m                         Traceback (most recent call last)",
        "\u001b[0;32m<ipython-input-27-6be9699e87b0>\u001b[0m in \u001b[0;36m<module>\u001b[0;34m()\u001b[0m\n\u001b[1;32m     12\u001b[0m \u001b[0;34m\u001b[0m\u001b[0m\n\u001b[1;32m     13\u001b[0m     \u001b[0;31m# get a list of IDs of the re-tweeters:\u001b[0m\u001b[0;34m\u001b[0m\u001b[0;34m\u001b[0m\u001b[0m\n\u001b[0;32m---> 14\u001b[0;31m     \u001b[0msleep\u001b[0m\u001b[0;34m(\u001b[0m\u001b[0;36m60\u001b[0m\u001b[0;34m)\u001b[0m    \u001b[0;31m# (rate limit: 15 requests / 15 min)\u001b[0m\u001b[0;34m\u001b[0m\u001b[0m\n\u001b[0m\u001b[1;32m     15\u001b[0m     \u001b[0mreq_string\u001b[0m \u001b[0;34m=\u001b[0m \u001b[0;34m'https://api.twitter.com/1.1/statuses/retweeters/ids.json?id='\u001b[0m                   \u001b[0;34m+\u001b[0m \u001b[0mtid\u001b[0m \u001b[0;34m+\u001b[0m \u001b[0;34m'&stringify_ids=true'\u001b[0m\u001b[0;34m\u001b[0m\u001b[0m\n\u001b[1;32m     16\u001b[0m     \u001b[0mresp\u001b[0m \u001b[0;34m=\u001b[0m \u001b[0mrequests\u001b[0m\u001b[0;34m.\u001b[0m\u001b[0mget\u001b[0m\u001b[0;34m(\u001b[0m\u001b[0mreq_string\u001b[0m\u001b[0;34m,\u001b[0m \u001b[0mauth\u001b[0m\u001b[0;34m=\u001b[0m\u001b[0moauth\u001b[0m\u001b[0;34m)\u001b[0m\u001b[0;34m\u001b[0m\u001b[0m\n",
        "\u001b[0;31mKeyboardInterrupt\u001b[0m: "
       ]
      }
     ],
     "prompt_number": 27
    },
    {
     "cell_type": "code",
     "collapsed": false,
     "input": [
      "# How many tweets with >5 rewteets are from \"The Square\"'s account?\n",
      "tweets_sq = [t['tweet_id'] for t in tweets \\\n",
      "     if t['n_retweets'] > 5 \\\n",
      "    and t['user']['screen_name'] == 'TheSquareFilm']\n",
      "\n",
      "\n",
      "len(tweets_sq)"
     ],
     "language": "python",
     "metadata": {},
     "outputs": [
      {
       "metadata": {},
       "output_type": "pyout",
       "prompt_number": 7,
       "text": [
        "3156"
       ]
      }
     ],
     "prompt_number": 7
    },
    {
     "cell_type": "code",
     "collapsed": false,
     "input": [],
     "language": "python",
     "metadata": {},
     "outputs": []
    }
   ],
   "metadata": {}
  }
 ]
}