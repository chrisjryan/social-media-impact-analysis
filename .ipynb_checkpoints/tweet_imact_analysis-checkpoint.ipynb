{
 "metadata": {
  "name": "",
  "signature": "sha256:d80f95a82fe33c8ecfc6b9f910f7f3b441da4e0804d14f9783565233d1d0ef9d"
 },
 "nbformat": 3,
 "nbformat_minor": 0,
 "worksheets": [
  {
   "cells": [
    {
     "cell_type": "code",
     "collapsed": false,
     "input": [
      "# Main question: What features characterize the tweets with the highest imapct?\n",
      "\n",
      "# We define and use 'summed degree centrality' as a proxy for impact.\n",
      "# We define this as the sum of the degree centraliy measures of all users that retweet the Twitter post.\n",
      "# (More simply, the degree centrality is the number of followers each user has)\n",
      "\n",
      "# (is the degree centrality, though? The social network you are considering is directed, unlike the Facebook network which is undirected & therefore this a more natural fit for 'degree centrality')\n",
      "\n",
      "\n",
      "\n",
      "\n",
      "\n",
      "\n",
      "\n"
     ],
     "language": "python",
     "metadata": {},
     "outputs": []
    }
   ],
   "metadata": {}
  }
 ]
}