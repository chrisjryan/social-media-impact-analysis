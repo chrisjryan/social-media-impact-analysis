{
 "metadata": {
  "name": "",
  "signature": "sha256:9f47cfae2c7b8c15188ae2357d2d67e708d73023a18c54800894031e1592c06e"
 },
 "nbformat": 3,
 "nbformat_minor": 0,
 "worksheets": [
  {
   "cells": [
    {
     "cell_type": "code",
     "collapsed": false,
     "input": [
      "import requests\n",
      "import random\n",
      "import json\n",
      "from twapi import *\n",
      "from time import sleep\n",
      "\n",
      "\n",
      "def load_json(filename):\n",
      "    with open(filename) as infile:\n",
      "        data = json.load(infile)\n",
      "    return data"
     ],
     "language": "python",
     "metadata": {},
     "outputs": [],
     "prompt_number": 7
    },
    {
     "cell_type": "code",
     "collapsed": false,
     "input": [
      "# load the tweets & get a list of all tweet IDs that have nonzero retweets:\n",
      "tweets = load_json('./data/twitter_posts.json')\n",
      "tweet_IDs = [t['tweet_id'] for t in tweets if t['n_retweets'] > 5]\n",
      "\n",
      "\n",
      "# note: considering only tweets with >5 retweets brings this script from \n",
      "# 48 to 8 hours runtime."
     ],
     "language": "python",
     "metadata": {},
     "outputs": [],
     "prompt_number": 8
    },
    {
     "cell_type": "code",
     "collapsed": false,
     "input": [
      "print 'total tweets:\\t\\t\\t', len(tweets)\n",
      "print 'tweets with >5 retweets:\\t', len(tweet_IDs)"
     ],
     "language": "python",
     "metadata": {},
     "outputs": [
      {
       "output_type": "stream",
       "stream": "stdout",
       "text": [
        "total tweets:\t\t\t4465\n",
        "tweets with >5 retweets:\t478\n"
       ]
      }
     ],
     "prompt_number": 9
    },
    {
     "cell_type": "code",
     "collapsed": false,
     "input": [
      "# Harvests a list of retweeters for each tweet in a list, as well as the\n",
      "# number of followers for each retweeter. This can be used as a proxy to\n",
      "# measure the impact of each tweet.\n",
      "\n",
      "delta = 100\n",
      "all_tweet_retweeters = []\n",
      "\n",
      "for tid in tweet_IDs:\n",
      "    \n",
      "    # get a list of IDs of the re-tweeters:\n",
      "    sleep(60)    # (rate limit: 15 requests / 15 min)\n",
      "    req_string = 'https://api.twitter.com/1.1/statuses/retweeters/ids.json?id=' \\\n",
      "                  + tid + '&stringify_ids=true'\n",
      "    resp = requests.get(req_string, auth=oauth)\n",
      "    retweeter_list = resp.json()['ids']\n",
      "\n",
      "    # get the number of followers each re-tweeter has\n",
      "    start_idx = 0\n",
      "    retweeter_followers = {}\n",
      "    while start_idx < len(retweeter_list):\n",
      "\n",
      "        # request user data for up to 100 retweeters at once:\n",
      "        sleep(5)    # (rate limit: 180 requests / 15 min)\n",
      "        req_string = 'https://api.twitter.com/1.1/users/lookup.json?user_id=' \\\n",
      "                      + ','.join(retweeter_list[start_idx:start_idx+delta])\n",
      "        resp = requests.get(req_string, auth=oauth)\n",
      "\n",
      "        # get & add the followers count to the summedDC:\n",
      "        for user in resp.json():\n",
      "            retweeter_followers[user['screen_name']] = user['followers_count']\n",
      "\n",
      "        start_idx += delta\n",
      "\n",
      "    # add the new data & rewrite the output file anew:\n",
      "    tweet_rewtweeters_followercount = {}\n",
      "    tweet_rewtweeters_followercount['tweet_id'] = tid\n",
      "    tweet_rewtweeters_followercount['retweeters'] = retweeter_followers\n",
      "    all_tweet_retweeters.append(tweet_rewtweeters_followercount)    \n",
      "    with file('retweeter_info.json','w') as outfile:\n",
      "        json.dump(all_tweet_retweeters, outfile, indent=4)\n",
      "\n",
      "        \n",
      "    # TODO: add meaningful key/value to retweeter screen_name and followers_count"
     ],
     "language": "python",
     "metadata": {},
     "outputs": [],
     "prompt_number": 10
    },
    {
     "cell_type": "code",
     "collapsed": false,
     "input": [],
     "language": "python",
     "metadata": {},
     "outputs": []
    }
   ],
   "metadata": {}
  }
 ]
}